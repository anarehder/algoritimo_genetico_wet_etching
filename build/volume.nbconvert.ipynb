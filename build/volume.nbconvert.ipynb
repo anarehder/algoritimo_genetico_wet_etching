{
 "cells": [
  {
   "cell_type": "code",
   "execution_count": 1,
   "metadata": {},
   "outputs": [],
   "source": [
    "import vtk\n",
    "\n",
    "colors = vtk.vtkNamedColors()\n",
    "\n",
    "filename1 = 'DISP_SUBTRAIDO.stl'\n",
    "reader1 = vtk.vtkSTLReader()\n",
    "reader1.SetFileName(filename1)\n",
    "reader1.Update()\n",
    "\n",
    "poly1 = reader1.GetOutputPort()\n",
    "\n",
    "filtro1 = vtk.vtkGeometryFilter()\n",
    "filtro1.SetInputConnection(poly1)\n",
    "filtro1.Update()\n",
    "\n",
    "polydata1 = filtro1.GetOutput()\n",
    "\n",
    "Mass1 = vtk.vtkMassProperties()\n",
    "Mass1.SetInputConnection(filtro1.GetOutputPort())\n",
    "Mass1.Update()\n",
    "\n",
    "Vol_1 = Mass1.GetVolume()\n",
    "Vol_1 = round(Vol_1, 4)\n",
    "\n",
    "#print('Volume 1 =', Vol_1)\n",
    "\n",
    "volume = str(Vol_1)\n",
    "\n",
    "file = open('VOLUME.txt', 'w')\n",
    "file.write(volume)\n",
    "file.close()"
   ]
  },
  {
   "cell_type": "code",
   "execution_count": null,
   "metadata": {},
   "outputs": [],
   "source": []
  }
 ],
 "metadata": {
  "kernelspec": {
   "display_name": "Python 3 (ipykernel)",
   "language": "python",
   "name": "python3"
  },
  "language_info": {
   "codemirror_mode": {
    "name": "ipython",
    "version": 3
   },
   "file_extension": ".py",
   "mimetype": "text/x-python",
   "name": "python",
   "nbconvert_exporter": "python",
   "pygments_lexer": "ipython3",
   "version": "3.8.10"
  }
 },
 "nbformat": 4,
 "nbformat_minor": 5
}
